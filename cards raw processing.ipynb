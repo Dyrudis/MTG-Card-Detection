{
 "cells": [
  {
   "cell_type": "markdown",
   "metadata": {},
   "source": [
    "# Creation of the cards.json file from 'cards raw.json'"
   ]
  },
  {
   "cell_type": "code",
   "execution_count": 1,
   "metadata": {},
   "outputs": [
    {
     "name": "stdout",
     "output_type": "stream",
     "text": [
      "dict_keys(['object', 'id', 'oracle_id', 'multiverse_ids', 'mtgo_id', 'mtgo_foil_id', 'tcgplayer_id', 'cardmarket_id', 'name', 'lang', 'released_at', 'uri', 'scryfall_uri', 'layout', 'highres_image', 'image_status', 'image_uris', 'mana_cost', 'cmc', 'type_line', 'oracle_text', 'power', 'toughness', 'colors', 'color_identity', 'keywords', 'legalities', 'games', 'reserved', 'foil', 'nonfoil', 'finishes', 'oversized', 'promo', 'reprint', 'variation', 'set_id', 'set', 'set_name', 'set_type', 'set_uri', 'set_search_uri', 'scryfall_set_uri', 'rulings_uri', 'prints_search_uri', 'collector_number', 'digital', 'rarity', 'flavor_text', 'card_back_id', 'artist', 'artist_ids', 'illustration_id', 'border_color', 'frame', 'full_art', 'textless', 'booster', 'story_spotlight', 'edhrec_rank', 'penny_rank', 'prices', 'related_uris', 'purchase_uris'])\n",
      "{'id': '44623693-51d6-49ad-8cd7-140505caf02f', 'name': 'Fury Sliver', 'text': 'All Sliver creatures have double strike.', 'uri': 'https://scryfall.com/card/tsp/157/fury-sliver?utm_source=api'}\n"
     ]
    }
   ],
   "source": [
    "import json\n",
    "\n",
    "# Open the oracle-cards.json with UTF-8 encoding\n",
    "with open('./data/cards raw.json', 'r', encoding='utf-8') as json_file:\n",
    "    data = json.load(json_file)\n",
    "\n",
    "# Print all the keys of the first element\n",
    "if data:\n",
    "    print(data[0].keys())\n",
    "\n",
    "filtered_data = []\n",
    "\n",
    "# Iterate through the elements and include only 'oracle_id', 'printed_name', 'printed_text' and 'scryfall_uri' properties, only for english and french cards, and remove art series\n",
    "for item in data:\n",
    "    if item[\"lang\"] not in [\"en\", \"fr\"] or item[\"layout\"] == \"art_series\":\n",
    "        continue\n",
    "\n",
    "    try:\n",
    "        id = item[\"oracle_id\"]\n",
    "    except KeyError:\n",
    "        id = \"\"\n",
    "\n",
    "    try:\n",
    "        name = item[\"printed_name\"]\n",
    "    except KeyError:\n",
    "        name = item[\"name\"]\n",
    "\n",
    "    try:\n",
    "        text = item[\"printed_text\"]\n",
    "    except KeyError:\n",
    "        try:\n",
    "            text = item[\"oracle_text\"]\n",
    "        except KeyError:\n",
    "            text = \"\"\n",
    "\n",
    "    try:\n",
    "        uri = item[\"scryfall_uri\"]\n",
    "    except KeyError:\n",
    "        uri = \"\"\n",
    "\n",
    "    filtered_data.append({\n",
    "        \"id\": id,\n",
    "        \"name\": name,\n",
    "        \"text\": text,\n",
    "        \"uri\": uri,\n",
    "    })        \n",
    "\n",
    "# Save the new JSON file with only 'id', 'name', and 'oracle_text'\n",
    "with open('./data/cards.json', 'w', encoding='utf-8') as outfile:\n",
    "    json.dump(filtered_data, outfile)\n",
    "\n",
    "# Print the first element of the new JSON file\n",
    "if filtered_data:\n",
    "    print(filtered_data[0])\n",
    "else:\n",
    "    print(\"No valid data found.\")\n"
   ]
  }
 ],
 "metadata": {
  "kernelspec": {
   "display_name": "Python 3",
   "language": "python",
   "name": "python3"
  },
  "language_info": {
   "codemirror_mode": {
    "name": "ipython",
    "version": 3
   },
   "file_extension": ".py",
   "mimetype": "text/x-python",
   "name": "python",
   "nbconvert_exporter": "python",
   "pygments_lexer": "ipython3",
   "version": "3.11.2"
  }
 },
 "nbformat": 4,
 "nbformat_minor": 2
}
