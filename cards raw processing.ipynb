{
 "cells": [
  {
   "cell_type": "markdown",
   "metadata": {},
   "source": [
    "# Creation of the cards.json file from 'cards raw.json'"
   ]
  },
  {
   "cell_type": "code",
   "execution_count": 1,
   "metadata": {},
   "outputs": [
    {
     "name": "stdout",
     "output_type": "stream",
     "text": [
      "{'id': '86bf43b1-8d4e-4759-bb2d-0b2e03ba7012', 'name': 'Static Orb', 'oracle_text': \"As long as Static Orb is untapped, players can't untap more than two permanents during their untap steps.\"}\n"
     ]
    }
   ],
   "source": [
    "import json\n",
    "\n",
    "# Open the oracle-cards.json with UTF-8 encoding\n",
    "with open('cards raw.json', 'r', encoding='utf-8') as json_file:\n",
    "    data = json.load(json_file)\n",
    "\n",
    "# Create a list to store the filtered data with 'id', 'name', and 'oracle_text' properties\n",
    "filtered_data = []\n",
    "\n",
    "# Iterate through the elements and include only 'id', 'name', and 'oracle_text'\n",
    "for item in data:\n",
    "    if all(key in item for key in ('id', 'name', 'oracle_text')):\n",
    "        filtered_data.append({\n",
    "            \"id\": item[\"id\"],\n",
    "            \"name\": item[\"name\"],\n",
    "            \"oracle_text\": item[\"oracle_text\"]\n",
    "        })\n",
    "\n",
    "# Save the new JSON file with only 'id', 'name', and 'oracle_text'\n",
    "with open('cards.json', 'w', encoding='utf-8') as outfile:\n",
    "    json.dump(filtered_data, outfile)\n",
    "\n",
    "# Print the first element of the new JSON file\n",
    "if filtered_data:\n",
    "    print(filtered_data[0])\n",
    "else:\n",
    "    print(\"No valid data found.\")\n"
   ]
  }
 ],
 "metadata": {
  "kernelspec": {
   "display_name": "Python 3",
   "language": "python",
   "name": "python3"
  },
  "language_info": {
   "codemirror_mode": {
    "name": "ipython",
    "version": 3
   },
   "file_extension": ".py",
   "mimetype": "text/x-python",
   "name": "python",
   "nbconvert_exporter": "python",
   "pygments_lexer": "ipython3",
   "version": "3.11.5"
  }
 },
 "nbformat": 4,
 "nbformat_minor": 2
}
